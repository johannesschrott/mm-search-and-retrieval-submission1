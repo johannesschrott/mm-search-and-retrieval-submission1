{
 "cells": [
  {
   "cell_type": "code",
   "execution_count": 8,
   "id": "846a0d79",
   "metadata": {},
   "outputs": [
    {
     "data": {
      "text/html": [
       "<div>\n",
       "<style scoped>\n",
       "    .dataframe tbody tr th:only-of-type {\n",
       "        vertical-align: middle;\n",
       "    }\n",
       "\n",
       "    .dataframe tbody tr th {\n",
       "        vertical-align: top;\n",
       "    }\n",
       "\n",
       "    .dataframe thead th {\n",
       "        text-align: right;\n",
       "    }\n",
       "</style>\n",
       "<table border=\"1\" class=\"dataframe\">\n",
       "  <thead>\n",
       "    <tr style=\"text-align: right;\">\n",
       "      <th></th>\n",
       "      <th>id</th>\n",
       "      <th>genre</th>\n",
       "    </tr>\n",
       "  </thead>\n",
       "  <tbody>\n",
       "    <tr>\n",
       "      <th>0</th>\n",
       "      <td>0009fFIM1eYThaPg</td>\n",
       "      <td>['pop']</td>\n",
       "    </tr>\n",
       "    <tr>\n",
       "      <th>1</th>\n",
       "      <td>0010xmHR6UICBOYT</td>\n",
       "      <td>['beats', 'underground hip hop', 'lo fi']</td>\n",
       "    </tr>\n",
       "    <tr>\n",
       "      <th>2</th>\n",
       "      <td>002Jyd0vN4HyCpqL</td>\n",
       "      <td>['hard rock', 'classic rock', 'rock', 'progres...</td>\n",
       "    </tr>\n",
       "    <tr>\n",
       "      <th>3</th>\n",
       "      <td>006TYKNjNxWjfKjy</td>\n",
       "      <td>['power metal', 'symphonic metal', 'symphonic ...</td>\n",
       "    </tr>\n",
       "    <tr>\n",
       "      <th>4</th>\n",
       "      <td>007LIJOPQ4Sb98qV</td>\n",
       "      <td>['post punk', 'new wave', 'dream pop', 'altern...</td>\n",
       "    </tr>\n",
       "  </tbody>\n",
       "</table>\n",
       "</div>"
      ],
      "text/plain": [
       "                 id                                              genre\n",
       "0  0009fFIM1eYThaPg                                            ['pop']\n",
       "1  0010xmHR6UICBOYT          ['beats', 'underground hip hop', 'lo fi']\n",
       "2  002Jyd0vN4HyCpqL  ['hard rock', 'classic rock', 'rock', 'progres...\n",
       "3  006TYKNjNxWjfKjy  ['power metal', 'symphonic metal', 'symphonic ...\n",
       "4  007LIJOPQ4Sb98qV  ['post punk', 'new wave', 'dream pop', 'altern..."
      ]
     },
     "execution_count": 8,
     "metadata": {},
     "output_type": "execute_result"
    }
   ],
   "source": [
    "df = pd.read_csv('id_genres_mmsr.tsv', sep='\\t')\n",
    "df.head()"
   ]
  },
  {
   "cell_type": "code",
   "execution_count": 6,
   "id": "873114d7",
   "metadata": {},
   "outputs": [
    {
     "name": "stdout",
     "output_type": "stream",
     "text": [
      "['wXcMv63aWS4KEPm8', 'WAFIWIziIPINi0MC', '2HMIpSuCforil1f7', 'qhUahI7HuwtK1PxU', 'dClpcYbLcrokcbVm']\n"
     ]
    }
   ],
   "source": [
    "import pandas as pd\n",
    "import numpy as np \n",
    "\n",
    "BERT_FILE_TSV = 'id_bert_mmsr.tsv'\n",
    "\n",
    "def get_similar_tracks(id, BERT_FILE_TSV, n):\n",
    "    bert_df = pd.read_csv(BERT_FILE_TSV, sep='\\t')\n",
    "    embeddings = bert_df[bert_df.columns[1:]].values\n",
    "\n",
    "    emb = bert_df[bert_df['id'] == id]\n",
    "    id_embedding = emb[emb.columns[1:]].values.T\n",
    "    similarities = (embeddings @ id_embedding).ravel()\n",
    "    sorted_indices = np.argsort(similarities)[::-1]\n",
    "    indices = sorted_indices[:n+1]\n",
    "    similar_ids = bert_df['id'].iloc[indices]\n",
    "    result = similar_ids.values.tolist()\n",
    "    result.remove(id)\n",
    "    return result\n",
    "\n",
    "# Test\n",
    "id = '0009fFIM1eYThaPg'\n",
    "similar_ids = get_similar_tracks(id, BERT_FILE_TSV, 5)\n",
    "print(similar_ids)"
   ]
  },
  {
   "cell_type": "code",
   "execution_count": 7,
   "id": "f0d47d82",
   "metadata": {},
   "outputs": [
    {
     "name": "stdout",
     "output_type": "stream",
     "text": [
      "['Bp2C0upIsbgDIj6g', 'ao7dLWmpTymdh4NP', 'WJRG3U9F9ugC8EGH', 'AnOdZ5pDIL2LhtCb', 'pxgFoLb5tSjKO0Rr', 'cUtnKV2vkqB3hhkX', 'ARAbmSl33s9qdv3W', 'HFLuvJXc6SjcJt7d', '2HMIpSuCforil1f7', 'SpXoTY1cFhXQpIST']\n"
     ]
    }
   ],
   "source": [
    "TFIDF_FILE_TSV = 'id_lyrics_tf-idf_mmsr.tsv'\n",
    "\n",
    "def get_similar_tracks(id, TFIDF_FILE_TSV, n):\n",
    "    tfidf_df = pd.read_csv(TFIDF_FILE_TSV, sep='\\t')\n",
    "    embeddings = tfidf_df[tfidf_df.columns[1:]].values \n",
    "\n",
    "    emb = tfidf_df[tfidf_df['id'] == id]\n",
    "    id_embedding = emb[emb.columns[1:]].values.T\n",
    "    similarities = (embeddings @ id_embedding).ravel()\n",
    "    sorted_indices = np.argsort(similarities)[::-1]\n",
    "    indices = sorted_indices[:n+1]\n",
    "    similar_ids = tfidf_df['id'].iloc[indices]\n",
    "    result = similar_ids.values.tolist()\n",
    "    result.remove(id)\n",
    "    return result\n",
    "\n",
    "# Test\n",
    "id = '0009fFIM1eYThaPg'\n",
    "tfidf_similar_ids = get_similar_tracks(id, TFIDF_FILE_TSV, 10)\n",
    "print(tfidf_similar_ids)"
   ]
  },
  {
   "cell_type": "code",
   "execution_count": 12,
   "id": "7d2a36df",
   "metadata": {},
   "outputs": [
    {
     "name": "stdout",
     "output_type": "stream",
     "text": [
      "['ao7dLWmpTymdh4NP', 'ieQMuyuV6xVybkDQ', 'lTJVFhGsiLggKCEq', 'sqYT9sXxNHDFGyDK', 'JgaBTqZhnj7Wm0P6', 'NCONeOaMBitsyTJt', 'hw6RH21K22tRzcKv', '2HMIpSuCforil1f7', 'P7JJGM6jyLBPn10M', 'M5uocfeM8SnxwI7q']\n"
     ]
    }
   ],
   "source": [
    "WORD2VEC_FILE_TSV = 'id_lyrics_word2vec_mmsr.tsv' \n",
    "\n",
    "def get_similar_tracks(id, WORD2VEC_FILE_TSV, n):\n",
    "    word2vec_df = pd.read_csv(WORD2VEC_FILE_TSV, sep='\\t')\n",
    "    embeddings = word2vec_df[word2vec_df.columns[1:]].values\n",
    "\n",
    "    emb = word2vec_df[word2vec_df['id'] == id]\n",
    "    id_embedding = emb[emb.columns[1:]].values.T\n",
    "    similarities = (embeddings @ id_embedding).ravel()\n",
    "    sorted_indices = np.argsort(similarities)[::-1]\n",
    "    indices = sorted_indices[:n+1]\n",
    "    similar_ids = word2vec_df['id'].iloc[indices]\n",
    "    result = similar_ids.values.tolist()\n",
    "    result.remove(id)\n",
    "    return result\n",
    "\n",
    "# Test\n",
    "id = '0009fFIM1eYThaPg'\n",
    "word2vec_similar_ids = get_similar_tracks(id, WORD2VEC_FILE_TSV, 10)\n",
    "print(word2vec_similar_ids)"
   ]
  },
  {
   "cell_type": "code",
   "execution_count": null,
   "id": "f6ba10f6",
   "metadata": {},
   "outputs": [],
   "source": []
  }
 ],
 "metadata": {
  "kernelspec": {
   "display_name": "Python 3 (ipykernel)",
   "language": "python",
   "name": "python3"
  },
  "language_info": {
   "codemirror_mode": {
    "name": "ipython",
    "version": 3
   },
   "file_extension": ".py",
   "mimetype": "text/x-python",
   "name": "python",
   "nbconvert_exporter": "python",
   "pygments_lexer": "ipython3",
   "version": "3.9.7"
  }
 },
 "nbformat": 4,
 "nbformat_minor": 5
}
