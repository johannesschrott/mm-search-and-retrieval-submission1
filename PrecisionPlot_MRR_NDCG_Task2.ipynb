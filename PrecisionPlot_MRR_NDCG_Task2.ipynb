{
 "cells": [
  {
   "cell_type": "code",
   "execution_count": 1,
   "id": "de006a52",
   "metadata": {},
   "outputs": [],
   "source": [
    "import os\n",
    "from ast import literal_eval\n",
    "import pandas as pd\n",
    "import numpy as np\n",
    "from sklearn.metrics import ndcg_score\n",
    "from tqdm import tqdm\n",
    "import matplotlib.pyplot as plt\n",
    "tqdm.pandas()"
   ]
  },
  {
   "cell_type": "code",
   "execution_count": 2,
   "id": "131cb0bf",
   "metadata": {},
   "outputs": [],
   "source": [
    "df_genres = pd.read_csv('data/id_genres_mmsr.tsv', sep='\\t')\n",
    "\n",
    "data = {'bert': 'data/id_lyrics_bert_mmsr.tsv',\n",
    "        'tfidf': 'data/id_lyrics_tf-idf_mmsr.tsv',\n",
    "        'word2vec': 'data/id_lyrics_word2vec_mmsr.tsv'}\n",
    "\n",
    "now = 'word2vec' #'tfidf' #'bert'\n",
    "\n",
    "df = pd.read_csv(data[now], sep='\\t')"
   ]
  },
  {
   "cell_type": "code",
   "execution_count": 3,
   "id": "cb2b4765",
   "metadata": {},
   "outputs": [
    {
     "data": {
      "text/html": [
       "<div>\n",
       "<style scoped>\n",
       "    .dataframe tbody tr th:only-of-type {\n",
       "        vertical-align: middle;\n",
       "    }\n",
       "\n",
       "    .dataframe tbody tr th {\n",
       "        vertical-align: top;\n",
       "    }\n",
       "\n",
       "    .dataframe thead th {\n",
       "        text-align: right;\n",
       "    }\n",
       "</style>\n",
       "<table border=\"1\" class=\"dataframe\">\n",
       "  <thead>\n",
       "    <tr style=\"text-align: right;\">\n",
       "      <th></th>\n",
       "      <th>id</th>\n",
       "      <th>genre</th>\n",
       "    </tr>\n",
       "  </thead>\n",
       "  <tbody>\n",
       "    <tr>\n",
       "      <th>0</th>\n",
       "      <td>0009fFIM1eYThaPg</td>\n",
       "      <td>['pop']</td>\n",
       "    </tr>\n",
       "    <tr>\n",
       "      <th>1</th>\n",
       "      <td>0010xmHR6UICBOYT</td>\n",
       "      <td>['beats', 'underground hip hop', 'lo fi']</td>\n",
       "    </tr>\n",
       "    <tr>\n",
       "      <th>2</th>\n",
       "      <td>002Jyd0vN4HyCpqL</td>\n",
       "      <td>['hard rock', 'classic rock', 'rock', 'progres...</td>\n",
       "    </tr>\n",
       "    <tr>\n",
       "      <th>3</th>\n",
       "      <td>006TYKNjNxWjfKjy</td>\n",
       "      <td>['power metal', 'symphonic metal', 'symphonic ...</td>\n",
       "    </tr>\n",
       "    <tr>\n",
       "      <th>4</th>\n",
       "      <td>007LIJOPQ4Sb98qV</td>\n",
       "      <td>['post punk', 'new wave', 'dream pop', 'altern...</td>\n",
       "    </tr>\n",
       "  </tbody>\n",
       "</table>\n",
       "</div>"
      ],
      "text/plain": [
       "                 id                                              genre\n",
       "0  0009fFIM1eYThaPg                                            ['pop']\n",
       "1  0010xmHR6UICBOYT          ['beats', 'underground hip hop', 'lo fi']\n",
       "2  002Jyd0vN4HyCpqL  ['hard rock', 'classic rock', 'rock', 'progres...\n",
       "3  006TYKNjNxWjfKjy  ['power metal', 'symphonic metal', 'symphonic ...\n",
       "4  007LIJOPQ4Sb98qV  ['post punk', 'new wave', 'dream pop', 'altern..."
      ]
     },
     "execution_count": 3,
     "metadata": {},
     "output_type": "execute_result"
    }
   ],
   "source": [
    "df_genres.head()"
   ]
  },
  {
   "cell_type": "code",
   "execution_count": 4,
   "id": "eccbe82e",
   "metadata": {},
   "outputs": [
    {
     "data": {
      "text/plain": [
       "(68641, 301)"
      ]
     },
     "execution_count": 4,
     "metadata": {},
     "output_type": "execute_result"
    }
   ],
   "source": [
    "df.shape"
   ]
  },
  {
   "cell_type": "code",
   "execution_count": 5,
   "id": "d6dbea08",
   "metadata": {},
   "outputs": [
    {
     "data": {
      "text/html": [
       "<div>\n",
       "<style scoped>\n",
       "    .dataframe tbody tr th:only-of-type {\n",
       "        vertical-align: middle;\n",
       "    }\n",
       "\n",
       "    .dataframe tbody tr th {\n",
       "        vertical-align: top;\n",
       "    }\n",
       "\n",
       "    .dataframe thead th {\n",
       "        text-align: right;\n",
       "    }\n",
       "</style>\n",
       "<table border=\"1\" class=\"dataframe\">\n",
       "  <thead>\n",
       "    <tr style=\"text-align: right;\">\n",
       "      <th></th>\n",
       "      <th>id</th>\n",
       "      <th>0</th>\n",
       "      <th>1</th>\n",
       "      <th>2</th>\n",
       "      <th>3</th>\n",
       "      <th>4</th>\n",
       "      <th>5</th>\n",
       "      <th>6</th>\n",
       "      <th>7</th>\n",
       "      <th>8</th>\n",
       "      <th>...</th>\n",
       "      <th>290</th>\n",
       "      <th>291</th>\n",
       "      <th>292</th>\n",
       "      <th>293</th>\n",
       "      <th>294</th>\n",
       "      <th>295</th>\n",
       "      <th>296</th>\n",
       "      <th>297</th>\n",
       "      <th>298</th>\n",
       "      <th>299</th>\n",
       "    </tr>\n",
       "  </thead>\n",
       "  <tbody>\n",
       "    <tr>\n",
       "      <th>0</th>\n",
       "      <td>0LiOzxBZ1aPLlFsK</td>\n",
       "      <td>0.031109</td>\n",
       "      <td>0.018026</td>\n",
       "      <td>0.022785</td>\n",
       "      <td>0.028802</td>\n",
       "      <td>-0.026084</td>\n",
       "      <td>-0.006278</td>\n",
       "      <td>0.030599</td>\n",
       "      <td>-0.041043</td>\n",
       "      <td>0.036703</td>\n",
       "      <td>...</td>\n",
       "      <td>-0.025845</td>\n",
       "      <td>0.010468</td>\n",
       "      <td>-0.047819</td>\n",
       "      <td>0.005620</td>\n",
       "      <td>-0.025106</td>\n",
       "      <td>-0.017939</td>\n",
       "      <td>-0.009981</td>\n",
       "      <td>-0.027846</td>\n",
       "      <td>0.021100</td>\n",
       "      <td>-0.020994</td>\n",
       "    </tr>\n",
       "    <tr>\n",
       "      <th>1</th>\n",
       "      <td>mxzw6q1VfWMdd9ro</td>\n",
       "      <td>0.013538</td>\n",
       "      <td>0.026949</td>\n",
       "      <td>0.006707</td>\n",
       "      <td>0.026687</td>\n",
       "      <td>-0.028433</td>\n",
       "      <td>-0.010083</td>\n",
       "      <td>0.022415</td>\n",
       "      <td>-0.040218</td>\n",
       "      <td>0.033329</td>\n",
       "      <td>...</td>\n",
       "      <td>-0.009777</td>\n",
       "      <td>0.020072</td>\n",
       "      <td>-0.050425</td>\n",
       "      <td>0.011942</td>\n",
       "      <td>-0.015132</td>\n",
       "      <td>-0.016525</td>\n",
       "      <td>0.016312</td>\n",
       "      <td>-0.021790</td>\n",
       "      <td>0.016149</td>\n",
       "      <td>-0.010693</td>\n",
       "    </tr>\n",
       "    <tr>\n",
       "      <th>2</th>\n",
       "      <td>F4vPrkSvYHwgexdS</td>\n",
       "      <td>0.019174</td>\n",
       "      <td>0.025422</td>\n",
       "      <td>0.010472</td>\n",
       "      <td>0.029765</td>\n",
       "      <td>-0.015188</td>\n",
       "      <td>0.007465</td>\n",
       "      <td>0.025536</td>\n",
       "      <td>-0.030486</td>\n",
       "      <td>0.026359</td>\n",
       "      <td>...</td>\n",
       "      <td>-0.025898</td>\n",
       "      <td>0.003252</td>\n",
       "      <td>-0.032156</td>\n",
       "      <td>0.002617</td>\n",
       "      <td>-0.017799</td>\n",
       "      <td>-0.017956</td>\n",
       "      <td>-0.012303</td>\n",
       "      <td>-0.011325</td>\n",
       "      <td>0.008986</td>\n",
       "      <td>-0.021229</td>\n",
       "    </tr>\n",
       "    <tr>\n",
       "      <th>3</th>\n",
       "      <td>cSJ3rv6DiHqyBJot</td>\n",
       "      <td>0.020385</td>\n",
       "      <td>0.014784</td>\n",
       "      <td>0.007314</td>\n",
       "      <td>0.024862</td>\n",
       "      <td>-0.060034</td>\n",
       "      <td>-0.007292</td>\n",
       "      <td>0.010608</td>\n",
       "      <td>-0.015649</td>\n",
       "      <td>0.027011</td>\n",
       "      <td>...</td>\n",
       "      <td>0.000165</td>\n",
       "      <td>0.025670</td>\n",
       "      <td>-0.046199</td>\n",
       "      <td>0.007238</td>\n",
       "      <td>-0.017479</td>\n",
       "      <td>-0.027334</td>\n",
       "      <td>0.024825</td>\n",
       "      <td>-0.026100</td>\n",
       "      <td>-0.015547</td>\n",
       "      <td>-0.015416</td>\n",
       "    </tr>\n",
       "    <tr>\n",
       "      <th>4</th>\n",
       "      <td>0hi04T4inOYGP0pz</td>\n",
       "      <td>0.003372</td>\n",
       "      <td>0.010353</td>\n",
       "      <td>0.020657</td>\n",
       "      <td>0.054301</td>\n",
       "      <td>-0.032918</td>\n",
       "      <td>-0.014128</td>\n",
       "      <td>0.011995</td>\n",
       "      <td>-0.036129</td>\n",
       "      <td>0.011246</td>\n",
       "      <td>...</td>\n",
       "      <td>-0.006355</td>\n",
       "      <td>0.032609</td>\n",
       "      <td>-0.033684</td>\n",
       "      <td>-0.005730</td>\n",
       "      <td>-0.025583</td>\n",
       "      <td>-0.026271</td>\n",
       "      <td>0.025765</td>\n",
       "      <td>-0.039988</td>\n",
       "      <td>-0.002181</td>\n",
       "      <td>-0.018827</td>\n",
       "    </tr>\n",
       "  </tbody>\n",
       "</table>\n",
       "<p>5 rows × 301 columns</p>\n",
       "</div>"
      ],
      "text/plain": [
       "                 id         0         1         2         3         4  \\\n",
       "0  0LiOzxBZ1aPLlFsK  0.031109  0.018026  0.022785  0.028802 -0.026084   \n",
       "1  mxzw6q1VfWMdd9ro  0.013538  0.026949  0.006707  0.026687 -0.028433   \n",
       "2  F4vPrkSvYHwgexdS  0.019174  0.025422  0.010472  0.029765 -0.015188   \n",
       "3  cSJ3rv6DiHqyBJot  0.020385  0.014784  0.007314  0.024862 -0.060034   \n",
       "4  0hi04T4inOYGP0pz  0.003372  0.010353  0.020657  0.054301 -0.032918   \n",
       "\n",
       "          5         6         7         8  ...       290       291       292  \\\n",
       "0 -0.006278  0.030599 -0.041043  0.036703  ... -0.025845  0.010468 -0.047819   \n",
       "1 -0.010083  0.022415 -0.040218  0.033329  ... -0.009777  0.020072 -0.050425   \n",
       "2  0.007465  0.025536 -0.030486  0.026359  ... -0.025898  0.003252 -0.032156   \n",
       "3 -0.007292  0.010608 -0.015649  0.027011  ...  0.000165  0.025670 -0.046199   \n",
       "4 -0.014128  0.011995 -0.036129  0.011246  ... -0.006355  0.032609 -0.033684   \n",
       "\n",
       "        293       294       295       296       297       298       299  \n",
       "0  0.005620 -0.025106 -0.017939 -0.009981 -0.027846  0.021100 -0.020994  \n",
       "1  0.011942 -0.015132 -0.016525  0.016312 -0.021790  0.016149 -0.010693  \n",
       "2  0.002617 -0.017799 -0.017956 -0.012303 -0.011325  0.008986 -0.021229  \n",
       "3  0.007238 -0.017479 -0.027334  0.024825 -0.026100 -0.015547 -0.015416  \n",
       "4 -0.005730 -0.025583 -0.026271  0.025765 -0.039988 -0.002181 -0.018827  \n",
       "\n",
       "[5 rows x 301 columns]"
      ]
     },
     "execution_count": 5,
     "metadata": {},
     "output_type": "execute_result"
    }
   ],
   "source": [
    "df.head()"
   ]
  },
  {
   "cell_type": "code",
   "execution_count": 6,
   "id": "b9cfbe1e",
   "metadata": {},
   "outputs": [],
   "source": [
    "n = 68641 # Number of rows to pick\n",
    "top_n = 100 # Top n recommendations"
   ]
  },
  {
   "cell_type": "code",
   "execution_count": 7,
   "id": "c82726fd",
   "metadata": {},
   "outputs": [
    {
     "name": "stderr",
     "output_type": "stream",
     "text": [
      "  0%|                                                                                                                                                                                                                      | 0/68641 [00:00<?, ?it/s]/var/folders/ds/224yqw6n1x1dv3s622c8dpwc0000gn/T/ipykernel_5486/3915175523.py:11: RuntimeWarning: invalid value encountered in true_divide\n",
      "  similarities = dot_product / (v1_mag * df_embeddings_mag)\n",
      "100%|██████████████████████████████████████████████████████████████████████████████████████████████████████████████████████████████████████████████████████████████████████████████████████████████████████████| 68641/68641 [14:09<00:00, 80.81it/s]\n"
     ]
    }
   ],
   "source": [
    "df_embeddings = df[df.columns[1:]].values\n",
    "df_embeddings_mag = np.linalg.norm(df_embeddings, axis=1)\n",
    "\n",
    "similar_ids = []\n",
    "\n",
    "for i in tqdm(range(n)):\n",
    "    v1 = df_embeddings[i].reshape(-1, 1)\n",
    "    v1_mag = df_embeddings_mag[i]\n",
    "\n",
    "    dot_product = (df_embeddings @ v1).flatten()\n",
    "    similarities = dot_product / (v1_mag * df_embeddings_mag)\n",
    "    similarities = similarities[np.isnan(similarities) == False]\n",
    "    index_sort = np.argsort(similarities)[::-1]\n",
    "    sorted_ids = df['id'].iloc[index_sort[:top_n]]\n",
    "    joined_ids = '||'.join(sorted_ids)\n",
    "    similar_ids.append(joined_ids)"
   ]
  },
  {
   "cell_type": "code",
   "execution_count": 8,
   "id": "46ec7c27",
   "metadata": {},
   "outputs": [
    {
     "name": "stderr",
     "output_type": "stream",
     "text": [
      "/var/folders/ds/224yqw6n1x1dv3s622c8dpwc0000gn/T/ipykernel_5486/261043778.py:3: SettingWithCopyWarning: \n",
      "A value is trying to be set on a copy of a slice from a DataFrame.\n",
      "Try using .loc[row_indexer,col_indexer] = value instead\n",
      "\n",
      "See the caveats in the documentation: https://pandas.pydata.org/pandas-docs/stable/user_guide/indexing.html#returning-a-view-versus-a-copy\n",
      "  df_n['similar_ids'] = similar_ids\n"
     ]
    }
   ],
   "source": [
    "df_n = df.head(n)\n",
    "\n",
    "df_n['similar_ids'] = similar_ids"
   ]
  },
  {
   "cell_type": "code",
   "execution_count": 9,
   "id": "909078fa",
   "metadata": {},
   "outputs": [
    {
     "data": {
      "text/html": [
       "<div>\n",
       "<style scoped>\n",
       "    .dataframe tbody tr th:only-of-type {\n",
       "        vertical-align: middle;\n",
       "    }\n",
       "\n",
       "    .dataframe tbody tr th {\n",
       "        vertical-align: top;\n",
       "    }\n",
       "\n",
       "    .dataframe thead th {\n",
       "        text-align: right;\n",
       "    }\n",
       "</style>\n",
       "<table border=\"1\" class=\"dataframe\">\n",
       "  <thead>\n",
       "    <tr style=\"text-align: right;\">\n",
       "      <th></th>\n",
       "      <th>id</th>\n",
       "      <th>similar_ids</th>\n",
       "    </tr>\n",
       "  </thead>\n",
       "  <tbody>\n",
       "    <tr>\n",
       "      <th>0</th>\n",
       "      <td>0LiOzxBZ1aPLlFsK</td>\n",
       "      <td>0LiOzxBZ1aPLlFsK||VPbu0qRW1O5bSVwh||f8jDyMjHrq...</td>\n",
       "    </tr>\n",
       "    <tr>\n",
       "      <th>1</th>\n",
       "      <td>mxzw6q1VfWMdd9ro</td>\n",
       "      <td>mxzw6q1VfWMdd9ro||qGQpRpIBvvEEA6dP||9WB202mqTA...</td>\n",
       "    </tr>\n",
       "    <tr>\n",
       "      <th>2</th>\n",
       "      <td>F4vPrkSvYHwgexdS</td>\n",
       "      <td>F4vPrkSvYHwgexdS||H6x6AbA1qv5rLpFI||cOg8MuwGJJ...</td>\n",
       "    </tr>\n",
       "    <tr>\n",
       "      <th>3</th>\n",
       "      <td>cSJ3rv6DiHqyBJot</td>\n",
       "      <td>cSJ3rv6DiHqyBJot||MKm6La8dhLPXylFn||oULCJUmsDq...</td>\n",
       "    </tr>\n",
       "    <tr>\n",
       "      <th>4</th>\n",
       "      <td>0hi04T4inOYGP0pz</td>\n",
       "      <td>0hi04T4inOYGP0pz||UN5IORBOghO65pM6||qV6PNwSOpo...</td>\n",
       "    </tr>\n",
       "  </tbody>\n",
       "</table>\n",
       "</div>"
      ],
      "text/plain": [
       "                 id                                        similar_ids\n",
       "0  0LiOzxBZ1aPLlFsK  0LiOzxBZ1aPLlFsK||VPbu0qRW1O5bSVwh||f8jDyMjHrq...\n",
       "1  mxzw6q1VfWMdd9ro  mxzw6q1VfWMdd9ro||qGQpRpIBvvEEA6dP||9WB202mqTA...\n",
       "2  F4vPrkSvYHwgexdS  F4vPrkSvYHwgexdS||H6x6AbA1qv5rLpFI||cOg8MuwGJJ...\n",
       "3  cSJ3rv6DiHqyBJot  cSJ3rv6DiHqyBJot||MKm6La8dhLPXylFn||oULCJUmsDq...\n",
       "4  0hi04T4inOYGP0pz  0hi04T4inOYGP0pz||UN5IORBOghO65pM6||qV6PNwSOpo..."
      ]
     },
     "execution_count": 9,
     "metadata": {},
     "output_type": "execute_result"
    }
   ],
   "source": [
    "df_n[['id', 'similar_ids']].head()"
   ]
  },
  {
   "cell_type": "code",
   "execution_count": 10,
   "id": "1b425117",
   "metadata": {},
   "outputs": [],
   "source": [
    "df_n[['id', 'similar_ids']].to_csv('df_n.csv', index=False) # save this ##############"
   ]
  },
  {
   "cell_type": "code",
   "execution_count": 11,
   "id": "8ab8cc58",
   "metadata": {},
   "outputs": [
    {
     "data": {
      "text/html": [
       "<div>\n",
       "<style scoped>\n",
       "    .dataframe tbody tr th:only-of-type {\n",
       "        vertical-align: middle;\n",
       "    }\n",
       "\n",
       "    .dataframe tbody tr th {\n",
       "        vertical-align: top;\n",
       "    }\n",
       "\n",
       "    .dataframe thead th {\n",
       "        text-align: right;\n",
       "    }\n",
       "</style>\n",
       "<table border=\"1\" class=\"dataframe\">\n",
       "  <thead>\n",
       "    <tr style=\"text-align: right;\">\n",
       "      <th></th>\n",
       "      <th>id</th>\n",
       "      <th>similar_ids</th>\n",
       "    </tr>\n",
       "  </thead>\n",
       "  <tbody>\n",
       "    <tr>\n",
       "      <th>0</th>\n",
       "      <td>0LiOzxBZ1aPLlFsK</td>\n",
       "      <td>0LiOzxBZ1aPLlFsK||VPbu0qRW1O5bSVwh||f8jDyMjHrq...</td>\n",
       "    </tr>\n",
       "    <tr>\n",
       "      <th>1</th>\n",
       "      <td>mxzw6q1VfWMdd9ro</td>\n",
       "      <td>mxzw6q1VfWMdd9ro||qGQpRpIBvvEEA6dP||9WB202mqTA...</td>\n",
       "    </tr>\n",
       "    <tr>\n",
       "      <th>2</th>\n",
       "      <td>F4vPrkSvYHwgexdS</td>\n",
       "      <td>F4vPrkSvYHwgexdS||H6x6AbA1qv5rLpFI||cOg8MuwGJJ...</td>\n",
       "    </tr>\n",
       "    <tr>\n",
       "      <th>3</th>\n",
       "      <td>cSJ3rv6DiHqyBJot</td>\n",
       "      <td>cSJ3rv6DiHqyBJot||MKm6La8dhLPXylFn||oULCJUmsDq...</td>\n",
       "    </tr>\n",
       "    <tr>\n",
       "      <th>4</th>\n",
       "      <td>0hi04T4inOYGP0pz</td>\n",
       "      <td>0hi04T4inOYGP0pz||UN5IORBOghO65pM6||qV6PNwSOpo...</td>\n",
       "    </tr>\n",
       "  </tbody>\n",
       "</table>\n",
       "</div>"
      ],
      "text/plain": [
       "                 id                                        similar_ids\n",
       "0  0LiOzxBZ1aPLlFsK  0LiOzxBZ1aPLlFsK||VPbu0qRW1O5bSVwh||f8jDyMjHrq...\n",
       "1  mxzw6q1VfWMdd9ro  mxzw6q1VfWMdd9ro||qGQpRpIBvvEEA6dP||9WB202mqTA...\n",
       "2  F4vPrkSvYHwgexdS  F4vPrkSvYHwgexdS||H6x6AbA1qv5rLpFI||cOg8MuwGJJ...\n",
       "3  cSJ3rv6DiHqyBJot  cSJ3rv6DiHqyBJot||MKm6La8dhLPXylFn||oULCJUmsDq...\n",
       "4  0hi04T4inOYGP0pz  0hi04T4inOYGP0pz||UN5IORBOghO65pM6||qV6PNwSOpo..."
      ]
     },
     "execution_count": 11,
     "metadata": {},
     "output_type": "execute_result"
    }
   ],
   "source": [
    "df_n[['id', 'similar_ids']].head()"
   ]
  },
  {
   "cell_type": "code",
   "execution_count": 12,
   "id": "0bbd9351",
   "metadata": {},
   "outputs": [],
   "source": [
    "id2genre = dict(zip(df_genres['id'], df_genres['genre']))"
   ]
  },
  {
   "cell_type": "code",
   "execution_count": 13,
   "id": "f7038138",
   "metadata": {},
   "outputs": [
    {
     "data": {
      "text/html": [
       "<div>\n",
       "<style scoped>\n",
       "    .dataframe tbody tr th:only-of-type {\n",
       "        vertical-align: middle;\n",
       "    }\n",
       "\n",
       "    .dataframe tbody tr th {\n",
       "        vertical-align: top;\n",
       "    }\n",
       "\n",
       "    .dataframe thead th {\n",
       "        text-align: right;\n",
       "    }\n",
       "</style>\n",
       "<table border=\"1\" class=\"dataframe\">\n",
       "  <thead>\n",
       "    <tr style=\"text-align: right;\">\n",
       "      <th></th>\n",
       "      <th>id</th>\n",
       "      <th>genre</th>\n",
       "    </tr>\n",
       "  </thead>\n",
       "  <tbody>\n",
       "    <tr>\n",
       "      <th>0</th>\n",
       "      <td>0009fFIM1eYThaPg</td>\n",
       "      <td>['pop']</td>\n",
       "    </tr>\n",
       "    <tr>\n",
       "      <th>1</th>\n",
       "      <td>0010xmHR6UICBOYT</td>\n",
       "      <td>['beats', 'underground hip hop', 'lo fi']</td>\n",
       "    </tr>\n",
       "    <tr>\n",
       "      <th>2</th>\n",
       "      <td>002Jyd0vN4HyCpqL</td>\n",
       "      <td>['hard rock', 'classic rock', 'rock', 'progres...</td>\n",
       "    </tr>\n",
       "    <tr>\n",
       "      <th>3</th>\n",
       "      <td>006TYKNjNxWjfKjy</td>\n",
       "      <td>['power metal', 'symphonic metal', 'symphonic ...</td>\n",
       "    </tr>\n",
       "    <tr>\n",
       "      <th>4</th>\n",
       "      <td>007LIJOPQ4Sb98qV</td>\n",
       "      <td>['post punk', 'new wave', 'dream pop', 'altern...</td>\n",
       "    </tr>\n",
       "  </tbody>\n",
       "</table>\n",
       "</div>"
      ],
      "text/plain": [
       "                 id                                              genre\n",
       "0  0009fFIM1eYThaPg                                            ['pop']\n",
       "1  0010xmHR6UICBOYT          ['beats', 'underground hip hop', 'lo fi']\n",
       "2  002Jyd0vN4HyCpqL  ['hard rock', 'classic rock', 'rock', 'progres...\n",
       "3  006TYKNjNxWjfKjy  ['power metal', 'symphonic metal', 'symphonic ...\n",
       "4  007LIJOPQ4Sb98qV  ['post punk', 'new wave', 'dream pop', 'altern..."
      ]
     },
     "execution_count": 13,
     "metadata": {},
     "output_type": "execute_result"
    }
   ],
   "source": [
    "df_genres.head()"
   ]
  },
  {
   "cell_type": "code",
   "execution_count": 14,
   "id": "c54c29df",
   "metadata": {},
   "outputs": [],
   "source": [
    "df_n_id_simid = df_n[['id', 'similar_ids']]\n",
    "id2simid = tuple(zip(df_n_id_simid['id'], df_n_id_simid['similar_ids']))"
   ]
  },
  {
   "cell_type": "code",
   "execution_count": 41,
   "id": "be4e7204",
   "metadata": {},
   "outputs": [],
   "source": [
    "def get_binary_scores(id, similar_ids, id2genre):\n",
    "    similar_ids_list = similar_ids.split('||')\n",
    "    binary_result = []\n",
    "    for similar_id in similar_ids_list:\n",
    "        genres1 = literal_eval(id2genre[id])\n",
    "        if similar_id != '':\n",
    "            genres2 = literal_eval(id2genre[similar_id])\n",
    "            intersect = [x for x in genres1 if x in genres2]\n",
    "            if len(intersect) == 0:\n",
    "                 binary_result.append(0)\n",
    "            else:\n",
    "                 binary_result.append(1)\n",
    "    return binary_result"
   ]
  },
  {
   "cell_type": "code",
   "execution_count": 42,
   "id": "fc4db9a0",
   "metadata": {},
   "outputs": [
    {
     "data": {
      "text/plain": [
       "68641"
      ]
     },
     "execution_count": 42,
     "metadata": {},
     "output_type": "execute_result"
    }
   ],
   "source": [
    "len(df_n_id_simid)"
   ]
  },
  {
   "cell_type": "code",
   "execution_count": 43,
   "id": "f7314c45",
   "metadata": {},
   "outputs": [
    {
     "name": "stderr",
     "output_type": "stream",
     "text": [
      "100%|█████████████████████████████████████████████████████████████████████████████████████████████████████████████████████████████████████████████████████████████████████████████████████████████████████████| 68641/68641 [02:13<00:00, 513.04it/s]\n"
     ]
    }
   ],
   "source": [
    "binary_similarity = []\n",
    "for row in tqdm(id2simid):\n",
    "    # print(row)\n",
    "    result = get_binary_scores(*row, id2genre)\n",
    "    if result != \"''\":\n",
    "        binary_similarity.append([row[0], row[1].split('||'), result])"
   ]
  },
  {
   "cell_type": "code",
   "execution_count": 48,
   "id": "3204c0b7",
   "metadata": {},
   "outputs": [
    {
     "name": "stdout",
     "output_type": "stream",
     "text": [
      "Precision is: 0.4865845485934063\n",
      "MRR is: 0.8899225800714194\n"
     ]
    },
    {
     "name": "stderr",
     "output_type": "stream",
     "text": [
      "/var/folders/ds/224yqw6n1x1dv3s622c8dpwc0000gn/T/ipykernel_5486/3371091113.py:42: VisibleDeprecationWarning: Creating an ndarray from ragged nested sequences (which is a list-or-tuple of lists-or-tuples-or ndarrays with different lengths or shapes) is deprecated. If you meant to do this, you must specify 'dtype=object' when creating the ndarray.\n",
      "  y_true = np.array(y_true)\n",
      "/var/folders/ds/224yqw6n1x1dv3s622c8dpwc0000gn/T/ipykernel_5486/3371091113.py:43: VisibleDeprecationWarning: Creating an ndarray from ragged nested sequences (which is a list-or-tuple of lists-or-tuples-or ndarrays with different lengths or shapes) is deprecated. If you meant to do this, you must specify 'dtype=object' when creating the ndarray.\n",
      "  y_pred = np.array(y_pred)\n"
     ]
    },
    {
     "ename": "ValueError",
     "evalue": "setting an array element with a sequence.",
     "output_type": "error",
     "traceback": [
      "\u001b[0;31m---------------------------------------------------------------------------\u001b[0m",
      "\u001b[0;31mTypeError\u001b[0m                                 Traceback (most recent call last)",
      "\u001b[0;31mTypeError\u001b[0m: float() argument must be a string or a real number, not 'list'",
      "\nThe above exception was the direct cause of the following exception:\n",
      "\u001b[0;31mValueError\u001b[0m                                Traceback (most recent call last)",
      "Cell \u001b[0;32mIn [48], line 45\u001b[0m\n\u001b[1;32m     42\u001b[0m y_true \u001b[38;5;241m=\u001b[39m np\u001b[38;5;241m.\u001b[39marray(y_true)\n\u001b[1;32m     43\u001b[0m y_pred \u001b[38;5;241m=\u001b[39m np\u001b[38;5;241m.\u001b[39marray(y_pred)\n\u001b[0;32m---> 45\u001b[0m \u001b[38;5;28mprint\u001b[39m(\u001b[38;5;124m'\u001b[39m\u001b[38;5;124mNDCG is:\u001b[39m\u001b[38;5;124m'\u001b[39m, \u001b[43mndcg_score\u001b[49m\u001b[43m(\u001b[49m\u001b[43my_true\u001b[49m\u001b[43m,\u001b[49m\u001b[43m \u001b[49m\u001b[43my_pred\u001b[49m\u001b[43m)\u001b[49m)\n",
      "File \u001b[0;32m~/opt/anaconda3/envs/multimedia-search-and-retrieval/lib/python3.10/site-packages/sklearn/metrics/_ranking.py:1636\u001b[0m, in \u001b[0;36mndcg_score\u001b[0;34m(y_true, y_score, k, sample_weight, ignore_ties)\u001b[0m\n\u001b[1;32m   1543\u001b[0m \u001b[38;5;28;01mdef\u001b[39;00m \u001b[38;5;21mndcg_score\u001b[39m(y_true, y_score, \u001b[38;5;241m*\u001b[39m, k\u001b[38;5;241m=\u001b[39m\u001b[38;5;28;01mNone\u001b[39;00m, sample_weight\u001b[38;5;241m=\u001b[39m\u001b[38;5;28;01mNone\u001b[39;00m, ignore_ties\u001b[38;5;241m=\u001b[39m\u001b[38;5;28;01mFalse\u001b[39;00m):\n\u001b[1;32m   1544\u001b[0m     \u001b[38;5;124;03m\"\"\"Compute Normalized Discounted Cumulative Gain.\u001b[39;00m\n\u001b[1;32m   1545\u001b[0m \n\u001b[1;32m   1546\u001b[0m \u001b[38;5;124;03m    Sum the true scores ranked in the order induced by the predicted scores,\u001b[39;00m\n\u001b[0;32m   (...)\u001b[0m\n\u001b[1;32m   1634\u001b[0m \u001b[38;5;124;03m    0.5...\u001b[39;00m\n\u001b[1;32m   1635\u001b[0m \u001b[38;5;124;03m    \"\"\"\u001b[39;00m\n\u001b[0;32m-> 1636\u001b[0m     y_true \u001b[38;5;241m=\u001b[39m \u001b[43mcheck_array\u001b[49m\u001b[43m(\u001b[49m\u001b[43my_true\u001b[49m\u001b[43m,\u001b[49m\u001b[43m \u001b[49m\u001b[43mensure_2d\u001b[49m\u001b[38;5;241;43m=\u001b[39;49m\u001b[38;5;28;43;01mFalse\u001b[39;49;00m\u001b[43m)\u001b[49m\n\u001b[1;32m   1637\u001b[0m     y_score \u001b[38;5;241m=\u001b[39m check_array(y_score, ensure_2d\u001b[38;5;241m=\u001b[39m\u001b[38;5;28;01mFalse\u001b[39;00m)\n\u001b[1;32m   1638\u001b[0m     check_consistent_length(y_true, y_score, sample_weight)\n",
      "File \u001b[0;32m~/opt/anaconda3/envs/multimedia-search-and-retrieval/lib/python3.10/site-packages/sklearn/utils/validation.py:856\u001b[0m, in \u001b[0;36mcheck_array\u001b[0;34m(array, accept_sparse, accept_large_sparse, dtype, order, copy, force_all_finite, ensure_2d, allow_nd, ensure_min_samples, ensure_min_features, estimator, input_name)\u001b[0m\n\u001b[1;32m    854\u001b[0m         array \u001b[38;5;241m=\u001b[39m array\u001b[38;5;241m.\u001b[39mastype(dtype, casting\u001b[38;5;241m=\u001b[39m\u001b[38;5;124m\"\u001b[39m\u001b[38;5;124munsafe\u001b[39m\u001b[38;5;124m\"\u001b[39m, copy\u001b[38;5;241m=\u001b[39m\u001b[38;5;28;01mFalse\u001b[39;00m)\n\u001b[1;32m    855\u001b[0m     \u001b[38;5;28;01melse\u001b[39;00m:\n\u001b[0;32m--> 856\u001b[0m         array \u001b[38;5;241m=\u001b[39m \u001b[43mnp\u001b[49m\u001b[38;5;241;43m.\u001b[39;49m\u001b[43masarray\u001b[49m\u001b[43m(\u001b[49m\u001b[43marray\u001b[49m\u001b[43m,\u001b[49m\u001b[43m \u001b[49m\u001b[43morder\u001b[49m\u001b[38;5;241;43m=\u001b[39;49m\u001b[43morder\u001b[49m\u001b[43m,\u001b[49m\u001b[43m \u001b[49m\u001b[43mdtype\u001b[49m\u001b[38;5;241;43m=\u001b[39;49m\u001b[43mdtype\u001b[49m\u001b[43m)\u001b[49m\n\u001b[1;32m    857\u001b[0m \u001b[38;5;28;01mexcept\u001b[39;00m ComplexWarning \u001b[38;5;28;01mas\u001b[39;00m complex_warning:\n\u001b[1;32m    858\u001b[0m     \u001b[38;5;28;01mraise\u001b[39;00m \u001b[38;5;167;01mValueError\u001b[39;00m(\n\u001b[1;32m    859\u001b[0m         \u001b[38;5;124m\"\u001b[39m\u001b[38;5;124mComplex data not supported\u001b[39m\u001b[38;5;130;01m\\n\u001b[39;00m\u001b[38;5;132;01m{}\u001b[39;00m\u001b[38;5;130;01m\\n\u001b[39;00m\u001b[38;5;124m\"\u001b[39m\u001b[38;5;241m.\u001b[39mformat(array)\n\u001b[1;32m    860\u001b[0m     ) \u001b[38;5;28;01mfrom\u001b[39;00m \u001b[38;5;21;01mcomplex_warning\u001b[39;00m\n",
      "\u001b[0;31mValueError\u001b[0m: setting an array element with a sequence."
     ]
    }
   ],
   "source": [
    "id_precision = []\n",
    "# id_recall = []\n",
    "for row in binary_similarity:\n",
    "    values = row[2]\n",
    "    TP = sum(values)\n",
    "    FP = len(values) - TP\n",
    "    if (TP+FP) != 0:\n",
    "        precision = TP / (TP + FP)\n",
    "        # recall = TP / len(values)\n",
    "    else: \n",
    "        precision = 0\n",
    "    id_precision.append([row[0], precision])\n",
    "        # id_recall.append([row[0], recall])\n",
    "\n",
    "precision_values = [i[1] for i in id_precision]\n",
    "precision = np.mean(precision_values)\n",
    "# recall = np.mean([i[1] for i in id_recall])\n",
    "\n",
    "print('Precision is:', precision)\n",
    "# print('Recall is:', recall)\n",
    "\n",
    "first_occurences = []\n",
    "for row in binary_similarity:\n",
    "    try:\n",
    "        first_occ = row[2].index(1)+1\n",
    "    except ValueError:\n",
    "        continue\n",
    "    else:\n",
    "        first_occurences.append(first_occ)\n",
    "\n",
    "MRR = sum([1/i for i in first_occurences]) / len(binary_similarity)\n",
    "print('MRR is:', MRR)\n",
    "\n",
    "y_true = []\n",
    "y_pred = []\n",
    "for row in binary_similarity:\n",
    "    values = row[2]\n",
    "    y_pred.append(values)\n",
    "    sorted_values = sorted(values)\n",
    "    reversed_sorted_values = list(reversed(sorted_values))\n",
    "    y_true.append(reversed_sorted_values)\n",
    "y_true = np.array(y_true)\n",
    "y_pred = np.array(y_pred)\n",
    "\n",
    "print('NDCG is:', ndcg_score(y_true, y_pred))"
   ]
  },
  {
   "cell_type": "code",
   "execution_count": 49,
   "id": "2d50aa43",
   "metadata": {},
   "outputs": [
    {
     "data": {
      "image/png": "[encoded data removed]",
      "text/plain": [
       "<Figure size 1000x600 with 1 Axes>"
      ]
     },
     "metadata": {},
     "output_type": "display_data"
    }
   ],
   "source": [
    "plt.figure(figsize=(10, 6))\n",
    "\n",
    "plt.plot(range(len(id_precision)), precision_values)\n",
    "plt.plot(range(len(id_precision)), [precision] * len(id_precision))\n",
    "plt.title('Precision plots for the songs')\n",
    "plt.xlabel('indices of id')\n",
    "plt.ylabel('precision')\n",
    "plt.show()"
   ]
  },
  {
   "cell_type": "markdown",
   "id": "9aec7f7e",
   "metadata": {},
   "source": [
    "## Packaged function"
   ]
  },
  {
   "cell_type": "code",
   "execution_count": 50,
   "id": "544b20f1",
   "metadata": {},
   "outputs": [
    {
     "name": "stdout",
     "output_type": "stream",
     "text": [
      "4856     0009fFIM1eYThaPg\n",
      "55120    SS6ZLl7rvUjUay4g\n",
      "53915    7qetrkjjDXjyc28r\n",
      "66276    fkfNSSQUlqtTmCpC\n",
      "65478    RQuLFjlMmfY4YSHr\n",
      "               ...       \n",
      "24500    82Gi1fOzAAR0y0hu\n",
      "66007    cWznCDq0WrIkq1kl\n",
      "63834    INDWvz0mN8kSiuUR\n",
      "45303    cvJCu5BQQxzGk2qh\n",
      "65976    mCl2qosijE1w80Yy\n",
      "Name: id, Length: 100, dtype: object\n"
     ]
    },
    {
     "name": "stderr",
     "output_type": "stream",
     "text": [
      "/var/folders/ds/224yqw6n1x1dv3s622c8dpwc0000gn/T/ipykernel_5486/1182247615.py:38: RuntimeWarning: invalid value encountered in true_divide\n",
      "  similarities = dot_product / (v1_mag * df_embeddings_mag)\n"
     ]
    }
   ],
   "source": [
    "## Packaged function\n",
    "\n",
    "import pandas as pd\n",
    "import numpy as np\n",
    "\n",
    "# directory = 'data/task2/'\n",
    "\n",
    "# data = {'bert': 'id_lyrics_bert_mmsr.tsv',\n",
    "#         'tfidf': 'id_lyrics_tf-idf_mmsr.tsv',\n",
    "#         'word2vec': 'id_lyrics_word2vec_mmsr.tsv'}\n",
    "\n",
    "# now = 'bert'\n",
    "\n",
    "FILE_TSV = data[now]\n",
    "\n",
    "def get_similar_tracks(id, FILE_TSV, n):\n",
    "    df = pd.read_csv(FILE_TSV, sep='\\t')\n",
    "    # # embeddings = df[df.columns[1:]].values\n",
    "\n",
    "    # # emb = df[df['id'] == id]\n",
    "    # # id_embedding = emb[emb.columns[1:]].values.T\n",
    "    # # similarities = (embeddings @ id_embedding).ravel()\n",
    "    # # sorted_indices = np.argsort(similarities)[::-1]\n",
    "    # # indices = sorted_indices[:n+1]\n",
    "    # # similar_ids = df['id'].iloc[indices]\n",
    "    # # result = similar_ids.values.tolist()\n",
    "    # # result.remove(id)\n",
    "    # # return result\n",
    "\n",
    "    df_embeddings = df[df.columns[1:]].values\n",
    "    df_embeddings_mag = np.linalg.norm(df_embeddings, axis=1)\n",
    "\n",
    "    emb = df[df['id'] == id]\n",
    "    v1 = emb[emb.columns[1:]].values.T\n",
    "    v1_mag = df_embeddings_mag[i]\n",
    "\n",
    "    dot_product = (df_embeddings @ v1).flatten()\n",
    "    similarities = dot_product / (v1_mag * df_embeddings_mag)\n",
    "    similarities = similarities[np.isnan(similarities) == False]\n",
    "    index_sort = np.argsort(similarities)[::-1]\n",
    "    sorted_ids = df['id'].iloc[index_sort[:top_n]]\n",
    "    return sorted_ids\n",
    "\n",
    "# Test\n",
    "id = '0009fFIM1eYThaPg'\n",
    "similar_ids = get_similar_tracks(id, FILE_TSV, 100) # compare with top 100 \n",
    "print(similar_ids)"
   ]
  },
  {
   "cell_type": "code",
   "execution_count": null,
   "id": "54ca3a48",
   "metadata": {},
   "outputs": [],
   "source": []
  }
 ],
 "metadata": {
  "kernelspec": {
   "display_name": "Python 3 (ipykernel)",
   "language": "python",
   "name": "python3"
  },
  "language_info": {
   "codemirror_mode": {
    "name": "ipython",
    "version": 3
   },
   "file_extension": ".py",
   "mimetype": "text/x-python",
   "name": "python",
   "nbconvert_exporter": "python",
   "pygments_lexer": "ipython3",
   "version": "3.10.6"
  }
 },
 "nbformat": 4,
 "nbformat_minor": 5
}
