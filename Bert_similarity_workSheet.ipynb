{
 "cells": [
  {
   "cell_type": "code",
   "execution_count": 3,
   "id": "38a4ea65",
   "metadata": {},
   "outputs": [],
   "source": [
    "from ast import literal_eval\n",
    "import pandas as pd\n",
    "import numpy as np\n",
    "from sklearn.metrics import ndcg_score\n",
    "from tqdm import tqdm\n",
    "tqdm.pandas()"
   ]
  },
  {
   "cell_type": "code",
   "execution_count": 4,
   "id": "a4f3efde",
   "metadata": {},
   "outputs": [],
   "source": [
    "df_bert = pd.read_csv('data/id_bert_mmsr.tsv', sep='\\t')\n",
    "df_genres = pd.read_csv('data/id_genres_mmsr.tsv', sep='\\t')\n",
    "df_information = pd.read_csv('data/id_information_mmsr.tsv', sep='\\t')\n",
    "df_lyrics_ti = pd.read_csv('data/id_lyrics_tf-idf_mmsr.tsv', sep='\\t')\n",
    "df_lyrics_wv = pd.read_csv('data/id_lyrics_word2vec_mmsr.tsv', sep='\\t')"
   ]
  },
  {
   "cell_type": "code",
   "execution_count": 5,
   "id": "e8c41141",
   "metadata": {},
   "outputs": [
    {
     "data": {
      "text/plain": "((76115, 769), (76115, 2))"
     },
     "execution_count": 5,
     "metadata": {},
     "output_type": "execute_result"
    }
   ],
   "source": [
    "df_bert.shape, df_genres.shape #, df_information.shape, df_lyrics_ti.shape, df_lyrics_wv.shape"
   ]
  },
  {
   "cell_type": "code",
   "execution_count": 6,
   "id": "d2382670",
   "metadata": {},
   "outputs": [
    {
     "data": {
      "text/plain": "                 id         0         1         2         3         4  \\\n0  9jbSytob9XRzwvB6  0.009225  0.041393 -0.003659 -0.030500 -0.006346   \n1  Njp6JPM8vitbhVJU  0.000766  0.017016  0.016470 -0.033847  0.013241   \n2  h48f46ZsT9h0Z5Dm -0.015378  0.041258 -0.004096 -0.061025 -0.012853   \n3  ZmXVK43zlqdeq6z8  0.030939  0.039541  0.006772 -0.024238 -0.014740   \n4  PV5EXN6AIVBqvsLO  0.040497  0.061796 -0.017192 -0.012942 -0.040331   \n\n          5         6         7         8  ...       758       759       760  \\\n0 -0.019719 -0.075958 -0.003737 -0.000486  ... -0.037228 -0.027013  0.029167   \n1  0.012773  0.019069 -0.030150  0.002594  ... -0.018111  0.009309  0.069906   \n2  0.028773 -0.045051 -0.016451 -0.007118  ... -0.042241 -0.014954  0.047022   \n3  0.039660 -0.017606 -0.018583 -0.020654  ... -0.023624  0.012699 -0.018839   \n4  0.019082  0.001662 -0.036522 -0.022991  ... -0.025968 -0.023056 -0.019058   \n\n        761       762       763       764       765       766       767  \n0  0.009537 -0.010819  0.004054 -0.018671  0.012545  0.020696 -0.019794  \n1 -0.042200  0.004261 -0.040005 -0.017133  0.005789 -0.041544 -0.010386  \n2 -0.015661 -0.007859  0.016969 -0.021641 -0.003476 -0.012301 -0.022135  \n3 -0.018112 -0.010139 -0.042302 -0.043314  0.036310 -0.032837 -0.015104  \n4  0.010935 -0.010183 -0.011044 -0.036080 -0.002666 -0.005304 -0.016923  \n\n[5 rows x 769 columns]",
      "text/html": "<div>\n<style scoped>\n    .dataframe tbody tr th:only-of-type {\n        vertical-align: middle;\n    }\n\n    .dataframe tbody tr th {\n        vertical-align: top;\n    }\n\n    .dataframe thead th {\n        text-align: right;\n    }\n</style>\n<table border=\"1\" class=\"dataframe\">\n  <thead>\n    <tr style=\"text-align: right;\">\n      <th></th>\n      <th>id</th>\n      <th>0</th>\n      <th>1</th>\n      <th>2</th>\n      <th>3</th>\n      <th>4</th>\n      <th>5</th>\n      <th>6</th>\n      <th>7</th>\n      <th>8</th>\n      <th>...</th>\n      <th>758</th>\n      <th>759</th>\n      <th>760</th>\n      <th>761</th>\n      <th>762</th>\n      <th>763</th>\n      <th>764</th>\n      <th>765</th>\n      <th>766</th>\n      <th>767</th>\n    </tr>\n  </thead>\n  <tbody>\n    <tr>\n      <th>0</th>\n      <td>9jbSytob9XRzwvB6</td>\n      <td>0.009225</td>\n      <td>0.041393</td>\n      <td>-0.003659</td>\n      <td>-0.030500</td>\n      <td>-0.006346</td>\n      <td>-0.019719</td>\n      <td>-0.075958</td>\n      <td>-0.003737</td>\n      <td>-0.000486</td>\n      <td>...</td>\n      <td>-0.037228</td>\n      <td>-0.027013</td>\n      <td>0.029167</td>\n      <td>0.009537</td>\n      <td>-0.010819</td>\n      <td>0.004054</td>\n      <td>-0.018671</td>\n      <td>0.012545</td>\n      <td>0.020696</td>\n      <td>-0.019794</td>\n    </tr>\n    <tr>\n      <th>1</th>\n      <td>Njp6JPM8vitbhVJU</td>\n      <td>0.000766</td>\n      <td>0.017016</td>\n      <td>0.016470</td>\n      <td>-0.033847</td>\n      <td>0.013241</td>\n      <td>0.012773</td>\n      <td>0.019069</td>\n      <td>-0.030150</td>\n      <td>0.002594</td>\n      <td>...</td>\n      <td>-0.018111</td>\n      <td>0.009309</td>\n      <td>0.069906</td>\n      <td>-0.042200</td>\n      <td>0.004261</td>\n      <td>-0.040005</td>\n      <td>-0.017133</td>\n      <td>0.005789</td>\n      <td>-0.041544</td>\n      <td>-0.010386</td>\n    </tr>\n    <tr>\n      <th>2</th>\n      <td>h48f46ZsT9h0Z5Dm</td>\n      <td>-0.015378</td>\n      <td>0.041258</td>\n      <td>-0.004096</td>\n      <td>-0.061025</td>\n      <td>-0.012853</td>\n      <td>0.028773</td>\n      <td>-0.045051</td>\n      <td>-0.016451</td>\n      <td>-0.007118</td>\n      <td>...</td>\n      <td>-0.042241</td>\n      <td>-0.014954</td>\n      <td>0.047022</td>\n      <td>-0.015661</td>\n      <td>-0.007859</td>\n      <td>0.016969</td>\n      <td>-0.021641</td>\n      <td>-0.003476</td>\n      <td>-0.012301</td>\n      <td>-0.022135</td>\n    </tr>\n    <tr>\n      <th>3</th>\n      <td>ZmXVK43zlqdeq6z8</td>\n      <td>0.030939</td>\n      <td>0.039541</td>\n      <td>0.006772</td>\n      <td>-0.024238</td>\n      <td>-0.014740</td>\n      <td>0.039660</td>\n      <td>-0.017606</td>\n      <td>-0.018583</td>\n      <td>-0.020654</td>\n      <td>...</td>\n      <td>-0.023624</td>\n      <td>0.012699</td>\n      <td>-0.018839</td>\n      <td>-0.018112</td>\n      <td>-0.010139</td>\n      <td>-0.042302</td>\n      <td>-0.043314</td>\n      <td>0.036310</td>\n      <td>-0.032837</td>\n      <td>-0.015104</td>\n    </tr>\n    <tr>\n      <th>4</th>\n      <td>PV5EXN6AIVBqvsLO</td>\n      <td>0.040497</td>\n      <td>0.061796</td>\n      <td>-0.017192</td>\n      <td>-0.012942</td>\n      <td>-0.040331</td>\n      <td>0.019082</td>\n      <td>0.001662</td>\n      <td>-0.036522</td>\n      <td>-0.022991</td>\n      <td>...</td>\n      <td>-0.025968</td>\n      <td>-0.023056</td>\n      <td>-0.019058</td>\n      <td>0.010935</td>\n      <td>-0.010183</td>\n      <td>-0.011044</td>\n      <td>-0.036080</td>\n      <td>-0.002666</td>\n      <td>-0.005304</td>\n      <td>-0.016923</td>\n    </tr>\n  </tbody>\n</table>\n<p>5 rows × 769 columns</p>\n</div>"
     },
     "execution_count": 6,
     "metadata": {},
     "output_type": "execute_result"
    }
   ],
   "source": [
    "df_bert.head()"
   ]
  },
  {
   "cell_type": "code",
   "execution_count": 7,
   "id": "29816bad",
   "metadata": {},
   "outputs": [
    {
     "data": {
      "text/plain": "                 id                                              genre\n0  0009fFIM1eYThaPg                                            ['pop']\n1  0010xmHR6UICBOYT          ['beats', 'underground hip hop', 'lo fi']\n2  002Jyd0vN4HyCpqL  ['hard rock', 'classic rock', 'rock', 'progres...\n3  006TYKNjNxWjfKjy  ['power metal', 'symphonic metal', 'symphonic ...\n4  007LIJOPQ4Sb98qV  ['post punk', 'new wave', 'dream pop', 'altern...",
      "text/html": "<div>\n<style scoped>\n    .dataframe tbody tr th:only-of-type {\n        vertical-align: middle;\n    }\n\n    .dataframe tbody tr th {\n        vertical-align: top;\n    }\n\n    .dataframe thead th {\n        text-align: right;\n    }\n</style>\n<table border=\"1\" class=\"dataframe\">\n  <thead>\n    <tr style=\"text-align: right;\">\n      <th></th>\n      <th>id</th>\n      <th>genre</th>\n    </tr>\n  </thead>\n  <tbody>\n    <tr>\n      <th>0</th>\n      <td>0009fFIM1eYThaPg</td>\n      <td>['pop']</td>\n    </tr>\n    <tr>\n      <th>1</th>\n      <td>0010xmHR6UICBOYT</td>\n      <td>['beats', 'underground hip hop', 'lo fi']</td>\n    </tr>\n    <tr>\n      <th>2</th>\n      <td>002Jyd0vN4HyCpqL</td>\n      <td>['hard rock', 'classic rock', 'rock', 'progres...</td>\n    </tr>\n    <tr>\n      <th>3</th>\n      <td>006TYKNjNxWjfKjy</td>\n      <td>['power metal', 'symphonic metal', 'symphonic ...</td>\n    </tr>\n    <tr>\n      <th>4</th>\n      <td>007LIJOPQ4Sb98qV</td>\n      <td>['post punk', 'new wave', 'dream pop', 'altern...</td>\n    </tr>\n  </tbody>\n</table>\n</div>"
     },
     "execution_count": 7,
     "metadata": {},
     "output_type": "execute_result"
    }
   ],
   "source": [
    "df_genres.head()"
   ]
  },
  {
   "cell_type": "code",
   "execution_count": 8,
   "id": "a5ce4ac7",
   "metadata": {},
   "outputs": [],
   "source": [
    "#df_information.head()"
   ]
  },
  {
   "cell_type": "code",
   "execution_count": 9,
   "id": "a14b1b27",
   "metadata": {},
   "outputs": [],
   "source": [
    "#df_lyrics_ti.head()"
   ]
  },
  {
   "cell_type": "code",
   "execution_count": 10,
   "id": "5733920f",
   "metadata": {},
   "outputs": [],
   "source": [
    "#df_lyrics_wv.head()"
   ]
  },
  {
   "cell_type": "code",
   "execution_count": 11,
   "id": "954305b8",
   "metadata": {},
   "outputs": [
    {
     "name": "stdout",
     "output_type": "stream",
     "text": [
      "True\n"
     ]
    }
   ],
   "source": [
    "if set(df_bert['id']) == set(df_genres['id']) == set(df_information['id']) == set(df_lyrics_ti['id']) == set(df_lyrics_wv['id']):\n",
    "    print(True)"
   ]
  },
  {
   "cell_type": "code",
   "execution_count": 12,
   "id": "c69f55cb",
   "metadata": {},
   "outputs": [
    {
     "name": "stderr",
     "output_type": "stream",
     "text": [
      "100%|██████████| 76115/76115 [00:29<00:00, 2609.34it/s]\n"
     ]
    }
   ],
   "source": [
    "bert_embeddings = df_bert[df_bert.columns[1:]].values.tolist()\n",
    "bert_embeddings = [str(i) for i in tqdm(bert_embeddings)]\n",
    "new_bert_df = pd.DataFrame({'id': df_bert['id'],\n",
    "                            'embeddings': bert_embeddings})"
   ]
  },
  {
   "cell_type": "code",
   "execution_count": 13,
   "id": "3d2f4194",
   "metadata": {},
   "outputs": [
    {
     "name": "stderr",
     "output_type": "stream",
     "text": [
      "100%|██████████| 76115/76115 [03:55<00:00, 323.54it/s]\n"
     ]
    }
   ],
   "source": [
    "new_bert_df['embeddings'] = new_bert_df['embeddings'].progress_apply(literal_eval)"
   ]
  },
  {
   "cell_type": "code",
   "execution_count": 14,
   "id": "1157fe87",
   "metadata": {},
   "outputs": [],
   "source": [
    "#pickel# "
   ]
  },
  {
   "cell_type": "code",
   "execution_count": 15,
   "id": "f6c6dfdd",
   "metadata": {},
   "outputs": [
    {
     "data": {
      "text/plain": "                 id                                         embeddings\n0  9jbSytob9XRzwvB6  [0.0092247044667601, 0.041393231600523, -0.003...\n1  Njp6JPM8vitbhVJU  [0.0007655373774468, 0.0170163195580244, 0.016...\n2  h48f46ZsT9h0Z5Dm  [-0.0153776668012142, 0.0412583015859127, -0.0...\n3  ZmXVK43zlqdeq6z8  [0.0309387072920799, 0.0395414233207702, 0.006...\n4  PV5EXN6AIVBqvsLO  [0.0404967181384563, 0.0617959946393966, -0.01...",
      "text/html": "<div>\n<style scoped>\n    .dataframe tbody tr th:only-of-type {\n        vertical-align: middle;\n    }\n\n    .dataframe tbody tr th {\n        vertical-align: top;\n    }\n\n    .dataframe thead th {\n        text-align: right;\n    }\n</style>\n<table border=\"1\" class=\"dataframe\">\n  <thead>\n    <tr style=\"text-align: right;\">\n      <th></th>\n      <th>id</th>\n      <th>embeddings</th>\n    </tr>\n  </thead>\n  <tbody>\n    <tr>\n      <th>0</th>\n      <td>9jbSytob9XRzwvB6</td>\n      <td>[0.0092247044667601, 0.041393231600523, -0.003...</td>\n    </tr>\n    <tr>\n      <th>1</th>\n      <td>Njp6JPM8vitbhVJU</td>\n      <td>[0.0007655373774468, 0.0170163195580244, 0.016...</td>\n    </tr>\n    <tr>\n      <th>2</th>\n      <td>h48f46ZsT9h0Z5Dm</td>\n      <td>[-0.0153776668012142, 0.0412583015859127, -0.0...</td>\n    </tr>\n    <tr>\n      <th>3</th>\n      <td>ZmXVK43zlqdeq6z8</td>\n      <td>[0.0309387072920799, 0.0395414233207702, 0.006...</td>\n    </tr>\n    <tr>\n      <th>4</th>\n      <td>PV5EXN6AIVBqvsLO</td>\n      <td>[0.0404967181384563, 0.0617959946393966, -0.01...</td>\n    </tr>\n  </tbody>\n</table>\n</div>"
     },
     "execution_count": 15,
     "metadata": {},
     "output_type": "execute_result"
    }
   ],
   "source": [
    "new_bert_df.head()"
   ]
  },
  {
   "cell_type": "code",
   "execution_count": 20,
   "id": "bd685603",
   "metadata": {},
   "outputs": [],
   "source": [
    "def bert_similarity(v1, v2):\n",
    "    return np.dot(v1, v2)\n",
    "\n",
    "def get_most_similar_ids(id, search_df):\n",
    "    emb = search_df[search_df['id'] == id]['embeddings']\n",
    "    v1 = emb[emb.index[0]]\n",
    "    search_df['similarities'] = search_df['embeddings'].apply(lambda v: bert_similarity(v, v1))\n",
    "    search_df = search_df.sort_values(by='similarities', ascending=False)\n",
    "    ids = search_df['id'].head(5).astype(str)\n",
    "    ids = '||'.join(ids)\n",
    "    # print(ids)\n",
    "    return ids"
   ]
  },
  {
   "cell_type": "code",
   "execution_count": 23,
   "id": "f6fffaa1",
   "metadata": {},
   "outputs": [],
   "source": [
    "df_bert_100 = df_bert.head(5)"
   ]
  },
  {
   "cell_type": "code",
   "execution_count": 24,
   "id": "1b23b001",
   "metadata": {},
   "outputs": [
    {
     "name": "stderr",
     "output_type": "stream",
     "text": [
      "100%|██████████| 5/5 [00:40<00:00,  8.19s/it]\n",
      "C:\\Users\\Johannes Schrott\\AppData\\Local\\Temp\\ipykernel_20920\\4291705930.py:5: SettingWithCopyWarning: \n",
      "A value is trying to be set on a copy of a slice from a DataFrame.\n",
      "Try using .loc[row_indexer,col_indexer] = value instead\n",
      "\n",
      "See the caveats in the documentation: https://pandas.pydata.org/pandas-docs/stable/user_guide/indexing.html#returning-a-view-versus-a-copy\n",
      "  df_bert_100['similar_ids'] = df_bert_100['id'].progress_apply(lambda id: get_most_similar_ids(id, new_bert_df))\n"
     ]
    }
   ],
   "source": [
    "# for id in df_bert['id']:\n",
    "#     result = get_most_similar_ids(id, new_bert_df)\n",
    "#     break\n",
    "\n",
    "df_bert_100['similar_ids'] = df_bert_100['id'].progress_apply(lambda id: get_most_similar_ids(id, new_bert_df))"
   ]
  },
  {
   "cell_type": "code",
   "execution_count": 25,
   "id": "1e802e0a",
   "metadata": {},
   "outputs": [
    {
     "data": {
      "text/plain": "(5, 2)"
     },
     "execution_count": 25,
     "metadata": {},
     "output_type": "execute_result"
    }
   ],
   "source": [
    "df_bert_100[['id', 'similar_ids']].shape#head()"
   ]
  },
  {
   "cell_type": "code",
   "execution_count": 26,
   "id": "0dcbd493",
   "metadata": {},
   "outputs": [
    {
     "data": {
      "text/plain": "                 id                                        similar_ids\n0  9jbSytob9XRzwvB6  RsY9d2ha4UNV6ta6||Zo1FDQ8KBtxigWjN||yFJONyH8gT...\n1  Njp6JPM8vitbhVJU  Njp6JPM8vitbhVJU||qv0QBR9djc9UhRaI||ofuF03vBR7...\n2  h48f46ZsT9h0Z5Dm  LbMQ1RkMGYGc5Otf||W4E5681HWCRaJdAE||pFCYP9Ru3x...\n3  ZmXVK43zlqdeq6z8  ZmXVK43zlqdeq6z8||PeANVvV2ktpUCjPf||AJzObB9wB9...\n4  PV5EXN6AIVBqvsLO  PV5EXN6AIVBqvsLO||PCd7QZ7k44ODfPmU||31qALrrc1Y...",
      "text/html": "<div>\n<style scoped>\n    .dataframe tbody tr th:only-of-type {\n        vertical-align: middle;\n    }\n\n    .dataframe tbody tr th {\n        vertical-align: top;\n    }\n\n    .dataframe thead th {\n        text-align: right;\n    }\n</style>\n<table border=\"1\" class=\"dataframe\">\n  <thead>\n    <tr style=\"text-align: right;\">\n      <th></th>\n      <th>id</th>\n      <th>similar_ids</th>\n    </tr>\n  </thead>\n  <tbody>\n    <tr>\n      <th>0</th>\n      <td>9jbSytob9XRzwvB6</td>\n      <td>RsY9d2ha4UNV6ta6||Zo1FDQ8KBtxigWjN||yFJONyH8gT...</td>\n    </tr>\n    <tr>\n      <th>1</th>\n      <td>Njp6JPM8vitbhVJU</td>\n      <td>Njp6JPM8vitbhVJU||qv0QBR9djc9UhRaI||ofuF03vBR7...</td>\n    </tr>\n    <tr>\n      <th>2</th>\n      <td>h48f46ZsT9h0Z5Dm</td>\n      <td>LbMQ1RkMGYGc5Otf||W4E5681HWCRaJdAE||pFCYP9Ru3x...</td>\n    </tr>\n    <tr>\n      <th>3</th>\n      <td>ZmXVK43zlqdeq6z8</td>\n      <td>ZmXVK43zlqdeq6z8||PeANVvV2ktpUCjPf||AJzObB9wB9...</td>\n    </tr>\n    <tr>\n      <th>4</th>\n      <td>PV5EXN6AIVBqvsLO</td>\n      <td>PV5EXN6AIVBqvsLO||PCd7QZ7k44ODfPmU||31qALrrc1Y...</td>\n    </tr>\n  </tbody>\n</table>\n</div>"
     },
     "execution_count": 26,
     "metadata": {},
     "output_type": "execute_result"
    }
   ],
   "source": [
    "df_bert_100[['id', 'similar_ids']].head()"
   ]
  },
  {
   "cell_type": "code",
   "execution_count": 27,
   "id": "5e60baac",
   "metadata": {},
   "outputs": [],
   "source": [
    "id2genre = dict(zip(df_genres['id'], df_genres['genre']))"
   ]
  },
  {
   "cell_type": "code",
   "execution_count": 28,
   "id": "736cf397",
   "metadata": {},
   "outputs": [
    {
     "data": {
      "text/plain": "                 id                                              genre\n0  0009fFIM1eYThaPg                                            ['pop']\n1  0010xmHR6UICBOYT          ['beats', 'underground hip hop', 'lo fi']\n2  002Jyd0vN4HyCpqL  ['hard rock', 'classic rock', 'rock', 'progres...\n3  006TYKNjNxWjfKjy  ['power metal', 'symphonic metal', 'symphonic ...\n4  007LIJOPQ4Sb98qV  ['post punk', 'new wave', 'dream pop', 'altern...",
      "text/html": "<div>\n<style scoped>\n    .dataframe tbody tr th:only-of-type {\n        vertical-align: middle;\n    }\n\n    .dataframe tbody tr th {\n        vertical-align: top;\n    }\n\n    .dataframe thead th {\n        text-align: right;\n    }\n</style>\n<table border=\"1\" class=\"dataframe\">\n  <thead>\n    <tr style=\"text-align: right;\">\n      <th></th>\n      <th>id</th>\n      <th>genre</th>\n    </tr>\n  </thead>\n  <tbody>\n    <tr>\n      <th>0</th>\n      <td>0009fFIM1eYThaPg</td>\n      <td>['pop']</td>\n    </tr>\n    <tr>\n      <th>1</th>\n      <td>0010xmHR6UICBOYT</td>\n      <td>['beats', 'underground hip hop', 'lo fi']</td>\n    </tr>\n    <tr>\n      <th>2</th>\n      <td>002Jyd0vN4HyCpqL</td>\n      <td>['hard rock', 'classic rock', 'rock', 'progres...</td>\n    </tr>\n    <tr>\n      <th>3</th>\n      <td>006TYKNjNxWjfKjy</td>\n      <td>['power metal', 'symphonic metal', 'symphonic ...</td>\n    </tr>\n    <tr>\n      <th>4</th>\n      <td>007LIJOPQ4Sb98qV</td>\n      <td>['post punk', 'new wave', 'dream pop', 'altern...</td>\n    </tr>\n  </tbody>\n</table>\n</div>"
     },
     "execution_count": 28,
     "metadata": {},
     "output_type": "execute_result"
    }
   ],
   "source": [
    "df_genres.head()"
   ]
  },
  {
   "cell_type": "code",
   "execution_count": 29,
   "id": "1d9f1259",
   "metadata": {},
   "outputs": [],
   "source": [
    "df_bert_100_id_simid = df_bert_100[['id', 'similar_ids']]\n",
    "id2simid = tuple(zip(df_bert_100_id_simid['id'], df_bert_100_id_simid['similar_ids']))"
   ]
  },
  {
   "cell_type": "code",
   "execution_count": 30,
   "id": "9606e4a8",
   "metadata": {},
   "outputs": [],
   "source": [
    "def get_binary_scores(id, similar_ids, id2genre):\n",
    "    similar_ids_list = similar_ids.split('||')\n",
    "    binary_result = []\n",
    "    for similar_id in similar_ids_list:\n",
    "        genres1 = literal_eval(id2genre[id])\n",
    "        genres2 = literal_eval(id2genre[similar_id])\n",
    "        intersect = [x for x in genres1 if x in genres2]\n",
    "        if len(intersect) == 0:\n",
    "            binary_result.append(0)\n",
    "        else:\n",
    "            binary_result.append(1)\n",
    "    return binary_result"
   ]
  },
  {
   "cell_type": "code",
   "execution_count": 31,
   "id": "0287b653",
   "metadata": {},
   "outputs": [],
   "source": [
    "binary_similarity = []\n",
    "for row in id2simid:\n",
    "    # print(row)\n",
    "    result = get_binary_scores(*row, id2genre)\n",
    "    binary_similarity.append([row[0], row[1].split('||'), result])"
   ]
  },
  {
   "cell_type": "code",
   "execution_count": 33,
   "id": "ce1c834b",
   "metadata": {},
   "outputs": [
    {
     "name": "stdout",
     "output_type": "stream",
     "text": [
      "Precision is: 0.6\n",
      "MRR is: 0.74\n",
      "[[1 1 1 0 0]\n",
      " [1 1 1 1 1]\n",
      " [1 0 0 0 0]\n",
      " [1 1 1 1 0]\n",
      " [1 1 0 0 0]]\n",
      "[[0 1 1 1 0]\n",
      " [1 1 1 1 1]\n",
      " [0 0 0 0 1]\n",
      " [1 1 1 0 1]\n",
      " [1 1 0 0 0]]\n",
      "NDCG is: 0.8493251268266541\n"
     ]
    }
   ],
   "source": [
    "n = 100\n",
    "id_precision = []\n",
    "for row in binary_similarity:\n",
    "    values = row[2][:n]\n",
    "    TP = sum(values)\n",
    "    FP = len(values) - TP\n",
    "    precision = TP / (TP + FP)\n",
    "    id_precision.append([row[0], precision])\n",
    "\n",
    "precision = np.mean([i[1] for i in id_precision])\n",
    "print('Precision is:', precision)\n",
    "\n",
    "first_occurences = []\n",
    "for row in binary_similarity:\n",
    "    try:\n",
    "        first_occ = row[2][:n].index(1)+1\n",
    "    except ValueError:\n",
    "        continue\n",
    "    else:\n",
    "        first_occurences.append(first_occ)\n",
    "\n",
    "MRR = sum([1/i for i in first_occurences]) / len(binary_similarity)\n",
    "print('MRR is:', MRR)\n",
    "\n",
    "y_true = []\n",
    "y_pred = []\n",
    "for row in binary_similarity:\n",
    "    values = row[2][:n]\n",
    "    y_pred.append(values)\n",
    "    sorted_values = sorted(values)\n",
    "    reversed_sorted_values = list(reversed(sorted_values))\n",
    "    y_true.append(reversed_sorted_values)\n",
    "y_true = np.array(y_true)\n",
    "y_pred = np.array(y_pred)\n",
    "\n",
    "print(y_true)\n",
    "print(y_pred)\n",
    "\n",
    "print('NDCG is:', ndcg_score(y_true, y_pred))"
   ]
  },
  {
   "cell_type": "code",
   "execution_count": null,
   "id": "a4ee8306",
   "metadata": {},
   "outputs": [],
   "source": []
  },
  {
   "cell_type": "code",
   "execution_count": null,
   "id": "afdb481e",
   "metadata": {},
   "outputs": [],
   "source": []
  },
  {
   "cell_type": "code",
   "execution_count": null,
   "id": "dbeccf50",
   "metadata": {},
   "outputs": [],
   "source": []
  }
 ],
 "metadata": {
  "kernelspec": {
   "display_name": "Python 3 (ipykernel)",
   "language": "python",
   "name": "python3"
  },
  "language_info": {
   "codemirror_mode": {
    "name": "ipython",
    "version": 3
   },
   "file_extension": ".py",
   "mimetype": "text/x-python",
   "name": "python",
   "nbconvert_exporter": "python",
   "pygments_lexer": "ipython3",
   "version": "3.9.7"
  }
 },
 "nbformat": 4,
 "nbformat_minor": 5
}
